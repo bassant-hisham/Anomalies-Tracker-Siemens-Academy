{
 "cells": [
  {
   "cell_type": "code",
   "execution_count": 1,
   "metadata": {},
   "outputs": [],
   "source": [
    "import sys\n",
    "from PyQt5 import QtWidgets\n",
    "from PyQt5.QtWidgets import *\n",
    "from mainwindow import Ui_MainWindow\n",
    "from CompilationConfig import Ui_Form\n",
    "from TaskTab import Ui_Task_Tab\n",
    "from Design import Ui_GroupBox\n",
    "from CustomRuntime import CustomRuntimeWindow\n",
    "from lanchuining_conf_ui import Ui_lanchuning_config\n",
    "from lanchuning_conf_edits import Ui_lanchuning_configEdits"
   ]
  },
  {
   "cell_type": "code",
   "execution_count": 2,
   "metadata": {},
   "outputs": [
    {
     "name": "stderr",
     "output_type": "stream",
     "text": [
      "C:\\Users\\Lenovo\\AppData\\Local\\Temp\\ipykernel_2680\\2392267186.py:1: DeprecationWarning: sipPyTypeDict() is deprecated, the extension module should use sipPyTypeDictRef() instead\n",
      "  class MyCompilationConfigWindow(QtWidgets.QWidget, Ui_Form):\n"
     ]
    }
   ],
   "source": [
    "class MyCompilationConfigWindow(QtWidgets.QWidget, Ui_Form):\n",
    "    def __init__(self):\n",
    "        super(MyCompilationConfigWindow, self).__init__()\n",
    "        self.setupUi(self) # This sets up the UI components from the Compilation Config window\n",
    "        self.pushButtonCreate_2.clicked.connect(self.close)\n",
    "        self.toolButton.clicked.connect(lambda: self.showFileDialog(self.lineEdit_5))\n",
    "        self.toolButton_2.clicked.connect(lambda: self.showFileDialog(self.lineEdit_4))\n",
    "    def showFileDialog(self,line_edit):\n",
    "            options = QFileDialog.Options()\n",
    "            options |= QFileDialog.DontUseNativeDialog\n",
    "            fileName, _ = QFileDialog.getOpenFileName(self, \"Open File\", \"\", \"All Files (*);;Text Files (*.txt)\", options=options)\n",
    "\n",
    "            if fileName:\n",
    "                line_edit.setText(fileName)"
   ]
  },
  {
   "cell_type": "code",
   "execution_count": 3,
   "metadata": {},
   "outputs": [
    {
     "name": "stderr",
     "output_type": "stream",
     "text": [
      "C:\\Users\\Lenovo\\AppData\\Local\\Temp\\ipykernel_2680\\2354982354.py:1: DeprecationWarning: sipPyTypeDict() is deprecated, the extension module should use sipPyTypeDictRef() instead\n",
      "  class LanchuingConfigurations(QtWidgets.QWidget,Ui_lanchuning_config):\n"
     ]
    }
   ],
   "source": [
    "class LanchuingConfigurations(QtWidgets.QWidget,Ui_lanchuning_config):\n",
    "    def __init__(self):\n",
    "        super(LanchuingConfigurations, self).__init__()\n",
    "        self.setupUi(self)"
   ]
  },
  {
   "cell_type": "code",
   "execution_count": 4,
   "metadata": {},
   "outputs": [
    {
     "name": "stderr",
     "output_type": "stream",
     "text": [
      "C:\\Users\\Lenovo\\AppData\\Local\\Temp\\ipykernel_2680\\997951054.py:1: DeprecationWarning: sipPyTypeDict() is deprecated, the extension module should use sipPyTypeDictRef() instead\n",
      "  class MyDesignBox(QtWidgets.QGroupBox,Ui_GroupBox):\n"
     ]
    }
   ],
   "source": [
    "class MyDesignBox(QtWidgets.QGroupBox,Ui_GroupBox):\n",
    "    # id = 0\n",
    "    def __init__(self,id):\n",
    "        super(MyDesignBox, self).__init__()\n",
    "        self.setupUi(self)  # This sets up the UI components from the Design box\n",
    "        # MyDesignBox.id += 1\n",
    "        self.setTitle(\"Design \" + str(id))\n",
    "        self.compilation_config = MyCompilationConfigWindow()\n",
    "        self.lanchuing_configurations=LanchuingConfigurations()\n",
    "        self.pushButtonAdd_3.clicked.connect(self.open_compilation_config)\n",
    "        self.toolButtonBrowseDatabase_3.clicked.connect(self.showFileDialog)\n",
    "        self.pushButtonAdd_4.clicked.connect(self.open_lanchuining_config)\n",
    "        self.lanchuning_conf_editsObject = Ui_lanchuning_configEdits(self.lanchuing_configurations)\n",
    "        self.setCheckable(True)\n",
    "        self.setChecked(True)\n",
    "        self.toggled.connect(self.toggle_content)\n",
    "        \n",
    "    def toggle_content(self):\n",
    "        if self.isChecked():\n",
    "            self.setMaximumHeight(16777215)\n",
    "        else:\n",
    "            self.setMaximumHeight(20)\n",
    "\n",
    "                \n",
    "    def open_compilation_config(self):\n",
    "        self.compilation_config.show()\n",
    "        \n",
    "    def showFileDialog(self):\n",
    "        options = QFileDialog.Options()\n",
    "        options |= QFileDialog.DontUseNativeDialog\n",
    "        fileName, _ = QFileDialog.getOpenFileName(self, \"Open File\", \"\", \"All Files (*);;Text Files (*.txt)\", options=options)\n",
    "\n",
    "        if fileName:\n",
    "            self.lineEditDatabasePath_2.setText(fileName)\n",
    "    def open_lanchuining_config(self):\n",
    "        self.lanchuing_configurations.show()"
   ]
  },
  {
   "cell_type": "code",
   "execution_count": 5,
   "metadata": {},
   "outputs": [
    {
     "name": "stderr",
     "output_type": "stream",
     "text": [
      "C:\\Users\\Lenovo\\AppData\\Local\\Temp\\ipykernel_2680\\1552014735.py:1: DeprecationWarning: sipPyTypeDict() is deprecated, the extension module should use sipPyTypeDictRef() instead\n",
      "  class MyTaskTab(QtWidgets.QWidget, Ui_Task_Tab):\n"
     ]
    }
   ],
   "source": [
    "class MyTaskTab(QtWidgets.QWidget, Ui_Task_Tab):\n",
    "    def __init__(self):\n",
    "        super(MyTaskTab, self).__init__()\n",
    "        self.setupUi(self)  # This sets up the UI components from the TaskTab section\n",
    "        self.widget.hide()\n",
    "        self.widget_2.hide()\n",
    "        self.pushButton.clicked.connect(self.add_design)\n",
    "        self.scrollLayout = QVBoxLayout(self.scrollAreaWidgetContents_3)\n",
    "        self.scrollAreaWidgetContents_3.setLayout(self.scrollLayout)\n",
    "        self.pushButton_2.clicked.connect(self.toggle_directory)\n",
    "        self.pushButton_3.clicked.connect(self.toggle_file)\n",
    "        self.toolButtonBrowseDatabase_3.clicked.connect(lambda: self.showDirectoryDialog(self.lineEditDatabasePath_2))\n",
    "        self.toolButtonBrowseDatabase_4.clicked.connect(lambda: self.showFileDialog(self.lineEditDatabasePath_5))\n",
    "\n",
    "        custom_window = CustomRuntimeWindow()  # Creating an instance of CustomRuntimeWindow\n",
    "        custom_window.toolButtonBrowseOutput_2.clicked.connect(lambda: self.showFileDialog(custom_window.lineEditOutputDirectory_2))\n",
    "        layout = QVBoxLayout(self.running_config)\n",
    "        layout.addWidget(custom_window) \n",
    "    \n",
    "    def toggle_directory(self):\n",
    "        self.widget.show()\n",
    "        if self.widget_2.isVisible():\n",
    "            self.widget_2.hide()\n",
    "            \n",
    "    def toggle_file(self):\n",
    "        self.widget_2.show()\n",
    "        if self.widget.isVisible():\n",
    "            self.widget.hide()\n",
    "    def add_design(self):\n",
    "        self.scrollLayout.addWidget(MyDesignBox(self.scrollLayout.count()+1))\n",
    "        \n",
    "    def showDirectoryDialog(self,line_edit):\n",
    "        options = QFileDialog.Options()\n",
    "        options |= QFileDialog.DontUseNativeDialog\n",
    "\n",
    "        # Open directory dialog\n",
    "        result = QFileDialog.getExistingDirectory(self, \"Open Directory\", options=options)\n",
    "\n",
    "        if result:\n",
    "            line_edit.setText(result)\n",
    "            \n",
    "    def showFileDialog(self,line_edit):\n",
    "            options = QFileDialog.Options()\n",
    "            options |= QFileDialog.DontUseNativeDialog\n",
    "            fileName, _ = QFileDialog.getOpenFileName(self, \"Open File\", \"\", \"All Files (*);;Text Files (*.txt)\", options=options)\n",
    "\n",
    "            if fileName:\n",
    "                line_edit.setText(fileName)"
   ]
  },
  {
   "cell_type": "code",
   "execution_count": 6,
   "metadata": {},
   "outputs": [
    {
     "name": "stderr",
     "output_type": "stream",
     "text": [
      "C:\\Users\\Lenovo\\AppData\\Local\\Temp\\ipykernel_2680\\3681990943.py:1: DeprecationWarning: sipPyTypeDict() is deprecated, the extension module should use sipPyTypeDictRef() instead\n",
      "  class MyMainWindow(QtWidgets.QMainWindow,Ui_MainWindow):\n"
     ]
    }
   ],
   "source": [
    "class MyMainWindow(QtWidgets.QMainWindow,Ui_MainWindow):\n",
    "    \n",
    "    def __init__(self):\n",
    "        super(MyMainWindow,self).__init__()\n",
    "        self.setupUi(self)\n",
    "        self.Job.hide()\n",
    "        self.pushButtonCreate_2.hide()\n",
    "        self.pushButtonCreate.clicked.connect(self.createTaskTabWidget)\n",
    "        self.compilation_config = MyCompilationConfigWindow()\n",
    "        self.lanchuing_configurations = LanchuingConfigurations()\n",
    "\n",
    "        \n",
    "\n",
    "    def createTaskTabWidget(self):\n",
    "        if not self.Job.isVisible():\n",
    "            self.Job.show()\n",
    "            self.pushButtonCreate_2.show()\n",
    "            self.Job.addTab(MyTaskTab(), f\"Task {self.Job.count() + 1}\")\n",
    "        else:\n",
    "            self.Job.addTab(MyTaskTab(), f\"Task {self.Job.count() + 1}\")"
   ]
  },
  {
   "cell_type": "code",
   "execution_count": 7,
   "metadata": {},
   "outputs": [
    {
     "ename": "SystemExit",
     "evalue": "0",
     "output_type": "error",
     "traceback": [
      "An exception has occurred, use %tb to see the full traceback.\n",
      "\u001b[1;31mSystemExit\u001b[0m\u001b[1;31m:\u001b[0m 0\n"
     ]
    },
    {
     "name": "stderr",
     "output_type": "stream",
     "text": [
      "C:\\Users\\Lenovo\\AppData\\Roaming\\Python\\Python39\\site-packages\\IPython\\core\\interactiveshell.py:3558: UserWarning: To exit: use 'exit', 'quit', or Ctrl-D.\n",
      "  warn(\"To exit: use 'exit', 'quit', or Ctrl-D.\", stacklevel=1)\n"
     ]
    }
   ],
   "source": [
    "#MAIN\n",
    "if __name__ == \"__main__\":\n",
    "    app = QtWidgets.QApplication(sys.argv)\n",
    "    mainwindow = MyMainWindow()\n",
    "    mainwindow.show()\n",
    "    sys.exit(app.exec_())"
   ]
  }
 ],
 "metadata": {
  "kernelspec": {
   "display_name": "Python 3",
   "language": "python",
   "name": "python3"
  },
  "language_info": {
   "codemirror_mode": {
    "name": "ipython",
    "version": 3
   },
   "file_extension": ".py",
   "mimetype": "text/x-python",
   "name": "python",
   "nbconvert_exporter": "python",
   "pygments_lexer": "ipython3",
   "version": "3.9.5"
  }
 },
 "nbformat": 4,
 "nbformat_minor": 2
}
