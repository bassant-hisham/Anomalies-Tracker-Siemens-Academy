{
 "cells": [
  {
   "cell_type": "code",
   "execution_count": 1,
   "metadata": {},
   "outputs": [],
   "source": [
    "import sys\n",
    "from PyQt5 import QtWidgets\n",
    "from PyQt5.QtWidgets import *\n",
    "from mainwindow import Ui_MainWindow\n",
    "from CompilationConfig import Ui_Form\n",
    "from TaskTab import Ui_Task_Tab\n",
    "from Design import Ui_GroupBox\n",
    "from CustomRuntime import CustomRuntimeWindow\n",
    "from launching_conf import Ui_launching_config\n",
    "from lanchuning_conf_edits import Ui_lanchuning_configEdits\n",
    "from Jobs import Ui_Jobs\n",
    "from Runtime import Ui_MainWindow as Ui_Running_MainWindow\n",
    "from commonFunctions import *\n",
    "from MyMainWindow import MyMainWindow\n",
    "from CompilationConfigurationWindow import MyCompilationConfigWindow \n",
    "from LanchuiningConfigurationWindow import LaunchingConfigurations\n"
   ]
  },
  {
   "cell_type": "code",
   "execution_count": 2,
   "metadata": {},
   "outputs": [],
   "source": [
    "      \n",
    "        #self.toolButtonBrowseDatabase_3.clicked.connect(lambda: showFileDialog(self,self.lineEditDatabasePath_2))\n",
    "        #self.pushButton_4.clicked.connect(self.open_running_config)\n",
    "        #self.setCheckable(True)\n",
    "        #self.setChecked(True)\n",
    "        #self.toggled.connect(self.toggle_content)\n",
    "\n",
    "\n",
    "\n",
    "    # def GetLists(self):\n",
    "    #     return self.launching_configurations.lanchuning_conf_editsObject.GetList()\n",
    "   "
   ]
  },
  {
   "cell_type": "code",
   "execution_count": 3,
   "metadata": {},
   "outputs": [
    {
     "name": "stdout",
     "output_type": "stream",
     "text": [
      "{'compile_design': False, 'source_design_path': 'gggg', 'output_directory': 'gggg', 'machine': 'egc-med-nozark', 'force': False, 'timeout': '555'}\n",
      "{'compile_design': False, 'source_design_path': 'tttt', 'output_directory': '', 'machine': 'egc-med-baird', 'force': False, 'timeout': ''}\n"
     ]
    },
    {
     "ename": "SystemExit",
     "evalue": "0",
     "output_type": "error",
     "traceback": [
      "An exception has occurred, use %tb to see the full traceback.\n",
      "\u001b[1;31mSystemExit\u001b[0m\u001b[1;31m:\u001b[0m 0\n"
     ]
    },
    {
     "name": "stderr",
     "output_type": "stream",
     "text": [
      "c:\\Users\\basse\\anaconda3\\envs\\py399\\lib\\site-packages\\IPython\\core\\interactiveshell.py:3513: UserWarning: To exit: use 'exit', 'quit', or Ctrl-D.\n",
      "  warn(\"To exit: use 'exit', 'quit', or Ctrl-D.\", stacklevel=1)\n"
     ]
    }
   ],
   "source": [
    "#MAIN\n",
    "if __name__ == \"__main__\":\n",
    "    app = QtWidgets.QApplication(sys.argv)\n",
    "    mainwindow = MyMainWindow()\n",
    "    mainwindow.show()\n",
    "    sys.exit(app.exec_())"
   ]
  }
 ],
 "metadata": {
  "kernelspec": {
   "display_name": "Python 3",
   "language": "python",
   "name": "python3"
  },
  "language_info": {
   "codemirror_mode": {
    "name": "ipython",
    "version": 3
   },
   "file_extension": ".py",
   "mimetype": "text/x-python",
   "name": "python",
   "nbconvert_exporter": "python",
   "pygments_lexer": "ipython3",
   "version": "3.9.18"
  }
 },
 "nbformat": 4,
 "nbformat_minor": 2
}
